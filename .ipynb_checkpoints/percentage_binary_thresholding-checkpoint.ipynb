{
 "cells": [
  {
   "cell_type": "markdown",
   "metadata": {},
   "source": [
    "# Percentage Binary Thresholding"
   ]
  },
  {
   "cell_type": "markdown",
   "metadata": {},
   "source": [
    "In this notebook I wish to illustrate a technique and a recipe I developed for thresholding not based on direct lower and higher gray values, but rather following the intention of let's say, dim the darkest 20% and the lightest 20% of the image pixels, exposing (i.e. highlighting) only the pixels that are in between."
   ]
  },
  {
   "cell_type": "markdown",
   "metadata": {},
   "source": [
    "-----------------------\n",
    "This notebook start by exploring histograms of a gray image:"
   ]
  },
  {
   "cell_type": "code",
   "execution_count": 6,
   "metadata": {
    "collapsed": false
   },
   "outputs": [
    {
     "name": "stdout",
     "output_type": "stream",
     "text": [
      "HISTOGRAM:\n",
      " [  227   117    98    70    65    71    80    90   133   144   151   166\n",
      "   215   207   228   262   287   266   300   259   295   337   348   331\n",
      "   403   445   565   747  1115  1592  1765  2128  2911  3474  4214  4737\n",
      "  4943  3764  2783  1894  1265  1018   881   868   798   805   845   844\n",
      "   917  1002  1085  1118  1245  1304  1337  1426  1492  1691  2172  2627\n",
      "  3126  3393  3678  3975  4922  6411  8599  9921  9675  9147  9837 10918\n",
      " 12555 13764 13657 11958  9861  9004  9313 10257 10491  9864  8869  8371\n",
      "  8034  8245  8381  8453  7761  6770  6258  5983  5788  5889  5631  5235\n",
      "  5077  4804  4512  4275  4217  4103  3891  3766  3482  3285  3202  3216\n",
      "  3115  2857  2750  2538  2458  2513  2796  3789  4594  5308  6185  7913\n",
      "  7740  7527  7598  7752  8161  9157 10089 11074 11965 12301 12120 11054\n",
      " 10928 12366 13521 13652 11961 10285  9424  9713 10263 10519 10235  9030\n",
      "  8112  7584  7787  8347  7832  7780  7454  6286  5781  5241  5666  6507\n",
      "  7940  7401  5994  5255  5270  6080  6791  7562  6333  4987  4152  3702\n",
      "  3836  4569  4759  3892  3290  3394  2963  2720  2412  2536  3063  2618\n",
      "  1937  1744  1823  1736  1509  1857  1695  1284  1006   750   603   419\n",
      "   294   232   247   228   214   263   269   336   285   257   305   288\n",
      "   273   221   186   144    87    82    72    70    55    53    40    35\n",
      "    27    28    22    20    15    13    16    17    17    12    16    18\n",
      "    12    19    18    19     9    11    20    19    15    11    22    17\n",
      "    20    14    20    12    16    14    23    15    31    20    20    17\n",
      "    27    34    67]\n",
      "BIN EDGES:\n",
      " [   0.    1.    2.    3.    4.    5.    6.    7.    8.    9.   10.   11.\n",
      "   12.   13.   14.   15.   16.   17.   18.   19.   20.   21.   22.   23.\n",
      "   24.   25.   26.   27.   28.   29.   30.   31.   32.   33.   34.   35.\n",
      "   36.   37.   38.   39.   40.   41.   42.   43.   44.   45.   46.   47.\n",
      "   48.   49.   50.   51.   52.   53.   54.   55.   56.   57.   58.   59.\n",
      "   60.   61.   62.   63.   64.   65.   66.   67.   68.   69.   70.   71.\n",
      "   72.   73.   74.   75.   76.   77.   78.   79.   80.   81.   82.   83.\n",
      "   84.   85.   86.   87.   88.   89.   90.   91.   92.   93.   94.   95.\n",
      "   96.   97.   98.   99.  100.  101.  102.  103.  104.  105.  106.  107.\n",
      "  108.  109.  110.  111.  112.  113.  114.  115.  116.  117.  118.  119.\n",
      "  120.  121.  122.  123.  124.  125.  126.  127.  128.  129.  130.  131.\n",
      "  132.  133.  134.  135.  136.  137.  138.  139.  140.  141.  142.  143.\n",
      "  144.  145.  146.  147.  148.  149.  150.  151.  152.  153.  154.  155.\n",
      "  156.  157.  158.  159.  160.  161.  162.  163.  164.  165.  166.  167.\n",
      "  168.  169.  170.  171.  172.  173.  174.  175.  176.  177.  178.  179.\n",
      "  180.  181.  182.  183.  184.  185.  186.  187.  188.  189.  190.  191.\n",
      "  192.  193.  194.  195.  196.  197.  198.  199.  200.  201.  202.  203.\n",
      "  204.  205.  206.  207.  208.  209.  210.  211.  212.  213.  214.  215.\n",
      "  216.  217.  218.  219.  220.  221.  222.  223.  224.  225.  226.  227.\n",
      "  228.  229.  230.  231.  232.  233.  234.  235.  236.  237.  238.  239.\n",
      "  240.  241.  242.  243.  244.  245.  246.  247.  248.  249.  250.  251.\n",
      "  252.  253.  254.  255.]\n"
     ]
    }
   ],
   "source": [
    "import matplotlib.pyplot as plt\n",
    "import matplotlib.image as mpimg\n",
    "import cv2\n",
    "import numpy as np\n",
    "import glob\n",
    "import re\n",
    "%matplotlib inline\n",
    "\n",
    "try:\n",
    "    f = open('test2.jpg')\n",
    "    f.close()\n",
    "except:\n",
    "    raise Exception('Please make sure that the notebook is in the same folder as the test images.')\n",
    "\n",
    "# A flagvalue of zero means we're loading the image as a grayscale image\n",
    "# discarding any color information in the file.\n",
    "img_gray = cv2.imread('test2.jpg', 0)\n",
    "\n",
    "# Note that I chose 255 bins and explicitly expressed the range of values\n",
    "# as going from 0 to 255 regardless of what gray levels might exist in the\n",
    "# sample image. This ensures nice and whole-number bin edges.\n",
    "histogram, bin_edges = np.histogram(img_gray, 255, (0.0, 255.0))\n",
    "print(\"HISTOGRAM:\\n\", histogram)\n",
    "print(\"BIN EDGES:\\n\", bin_edges)"
   ]
  },
  {
   "cell_type": "markdown",
   "metadata": {},
   "source": []
  }
 ],
 "metadata": {
  "kernelspec": {
   "display_name": "Python 3",
   "language": "python",
   "name": "python3"
  },
  "language_info": {
   "codemirror_mode": {
    "name": "ipython",
    "version": 3
   },
   "file_extension": ".py",
   "mimetype": "text/x-python",
   "name": "python",
   "nbconvert_exporter": "python",
   "pygments_lexer": "ipython3",
   "version": "3.5.2"
  }
 },
 "nbformat": 4,
 "nbformat_minor": 2
}
