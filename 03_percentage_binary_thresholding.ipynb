{
 "cells": [
  {
   "cell_type": "markdown",
   "metadata": {},
   "source": [
    "# Percentage Binary Thresholding"
   ]
  },
  {
   "cell_type": "markdown",
   "metadata": {},
   "source": [
    "In this notebook I wish to illustrate a technique and a recipe I developed for thresholding not based on direct lower and higher gray values, but rather following the intention of let's say, dim the darkest 20% and the lightest 20% of the image pixels, exposing (i.e. highlighting) only the pixels that are in between."
   ]
  },
  {
   "cell_type": "markdown",
   "metadata": {},
   "source": [
    "-----------------------\n",
    "This notebook start by exploring histograms of a gray image:"
   ]
  },
  {
   "cell_type": "code",
   "execution_count": 6,
   "metadata": {
    "collapsed": false
   },
   "outputs": [
    {
     "name": "stdout",
     "output_type": "stream",
     "text": [
      "HISTOGRAM:\n",
      " [  227   117    98    70    65    71    80    90   133   144   151   166\n",
      "   215   207   228   262   287   266   300   259   295   337   348   331\n",
      "   403   445   565   747  1115  1592  1765  2128  2911  3474  4214  4737\n",
      "  4943  3764  2783  1894  1265  1018   881   868   798   805   845   844\n",
      "   917  1002  1085  1118  1245  1304  1337  1426  1492  1691  2172  2627\n",
      "  3126  3393  3678  3975  4922  6411  8599  9921  9675  9147  9837 10918\n",
      " 12555 13764 13657 11958  9861  9004  9313 10257 10491  9864  8869  8371\n",
      "  8034  8245  8381  8453  7761  6770  6258  5983  5788  5889  5631  5235\n",
      "  5077  4804  4512  4275  4217  4103  3891  3766  3482  3285  3202  3216\n",
      "  3115  2857  2750  2538  2458  2513  2796  3789  4594  5308  6185  7913\n",
      "  7740  7527  7598  7752  8161  9157 10089 11074 11965 12301 12120 11054\n",
      " 10928 12366 13521 13652 11961 10285  9424  9713 10263 10519 10235  9030\n",
      "  8112  7584  7787  8347  7832  7780  7454  6286  5781  5241  5666  6507\n",
      "  7940  7401  5994  5255  5270  6080  6791  7562  6333  4987  4152  3702\n",
      "  3836  4569  4759  3892  3290  3394  2963  2720  2412  2536  3063  2618\n",
      "  1937  1744  1823  1736  1509  1857  1695  1284  1006   750   603   419\n",
      "   294   232   247   228   214   263   269   336   285   257   305   288\n",
      "   273   221   186   144    87    82    72    70    55    53    40    35\n",
      "    27    28    22    20    15    13    16    17    17    12    16    18\n",
      "    12    19    18    19     9    11    20    19    15    11    22    17\n",
      "    20    14    20    12    16    14    23    15    31    20    20    17\n",
      "    27    34    67]\n",
      "BIN EDGES:\n",
      " [   0.    1.    2.    3.    4.    5.    6.    7.    8.    9.   10.   11.\n",
      "   12.   13.   14.   15.   16.   17.   18.   19.   20.   21.   22.   23.\n",
      "   24.   25.   26.   27.   28.   29.   30.   31.   32.   33.   34.   35.\n",
      "   36.   37.   38.   39.   40.   41.   42.   43.   44.   45.   46.   47.\n",
      "   48.   49.   50.   51.   52.   53.   54.   55.   56.   57.   58.   59.\n",
      "   60.   61.   62.   63.   64.   65.   66.   67.   68.   69.   70.   71.\n",
      "   72.   73.   74.   75.   76.   77.   78.   79.   80.   81.   82.   83.\n",
      "   84.   85.   86.   87.   88.   89.   90.   91.   92.   93.   94.   95.\n",
      "   96.   97.   98.   99.  100.  101.  102.  103.  104.  105.  106.  107.\n",
      "  108.  109.  110.  111.  112.  113.  114.  115.  116.  117.  118.  119.\n",
      "  120.  121.  122.  123.  124.  125.  126.  127.  128.  129.  130.  131.\n",
      "  132.  133.  134.  135.  136.  137.  138.  139.  140.  141.  142.  143.\n",
      "  144.  145.  146.  147.  148.  149.  150.  151.  152.  153.  154.  155.\n",
      "  156.  157.  158.  159.  160.  161.  162.  163.  164.  165.  166.  167.\n",
      "  168.  169.  170.  171.  172.  173.  174.  175.  176.  177.  178.  179.\n",
      "  180.  181.  182.  183.  184.  185.  186.  187.  188.  189.  190.  191.\n",
      "  192.  193.  194.  195.  196.  197.  198.  199.  200.  201.  202.  203.\n",
      "  204.  205.  206.  207.  208.  209.  210.  211.  212.  213.  214.  215.\n",
      "  216.  217.  218.  219.  220.  221.  222.  223.  224.  225.  226.  227.\n",
      "  228.  229.  230.  231.  232.  233.  234.  235.  236.  237.  238.  239.\n",
      "  240.  241.  242.  243.  244.  245.  246.  247.  248.  249.  250.  251.\n",
      "  252.  253.  254.  255.]\n"
     ]
    }
   ],
   "source": [
    "import matplotlib.pyplot as plt\n",
    "import matplotlib.image as mpimg\n",
    "import cv2\n",
    "import numpy as np\n",
    "import glob\n",
    "import re\n",
    "%matplotlib inline\n",
    "\n",
    "try:\n",
    "    f = open('test2.jpg')\n",
    "    f.close()\n",
    "except:\n",
    "    raise Exception('Please make sure that the notebook is in the same folder as the test images.')\n",
    "\n",
    "# A flagvalue of zero means we're loading the image as a grayscale image\n",
    "# discarding any color information in the file.\n",
    "img_gray = cv2.imread('test2.jpg', 0)\n",
    "\n",
    "# Note that I chose 255 bins and explicitly expressed the range of values\n",
    "# as going from 0 to 255 regardless of what gray levels might exist in the\n",
    "# sample image. This ensures nice and whole-number bin edges.\n",
    "histogram, bin_edges = np.histogram(img_gray, 255, (0.0, 255.0))\n",
    "print(\"HISTOGRAM:\\n\", histogram)\n",
    "print(\"BIN EDGES:\\n\", bin_edges)"
   ]
  },
  {
   "cell_type": "markdown",
   "metadata": {},
   "source": [
    "As we can see above, the bin edges or the value categories are simply the range 0 to 255. Hence we may discard this part and use the histogram part alone.\n",
    "\n",
    "The next step is to sum up the histogram to turn it into an ascending list of counts. This way, looking up the 10th count in the list will no longer tell us how many pixels in the image are at gray level \"10\", but rather, how many pixels in the image are at gray level \"1, 2, 3, 4, ..., 10\". Effectively, it will tell us the pixel count acquiring a gray level of anything up to and including the indexing value.\n",
    "\n",
    "This is done using the numpy np.cumsum function."
   ]
  },
  {
   "cell_type": "code",
   "execution_count": 8,
   "metadata": {
    "collapsed": false
   },
   "outputs": [
    {
     "name": "stdout",
     "output_type": "stream",
     "text": [
      "CUMULATIVE HISTOGRAM:\n",
      " [   227    344    442    512    577    648    728    818    951   1095\n",
      "   1246   1412   1627   1834   2062   2324   2611   2877   3177   3436\n",
      "   3731   4068   4416   4747   5150   5595   6160   6907   8022   9614\n",
      "  11379  13507  16418  19892  24106  28843  33786  37550  40333  42227\n",
      "  43492  44510  45391  46259  47057  47862  48707  49551  50468  51470\n",
      "  52555  53673  54918  56222  57559  58985  60477  62168  64340  66967\n",
      "  70093  73486  77164  81139  86061  92472 101071 110992 120667 129814\n",
      " 139651 150569 163124 176888 190545 202503 212364 221368 230681 240938\n",
      " 251429 261293 270162 278533 286567 294812 303193 311646 319407 326177\n",
      " 332435 338418 344206 350095 355726 360961 366038 370842 375354 379629\n",
      " 383846 387949 391840 395606 399088 402373 405575 408791 411906 414763\n",
      " 417513 420051 422509 425022 427818 431607 436201 441509 447694 455607\n",
      " 463347 470874 478472 486224 494385 503542 513631 524705 536670 548971\n",
      " 561091 572145 583073 595439 608960 622612 634573 644858 654282 663995\n",
      " 674258 684777 695012 704042 712154 719738 727525 735872 743704 751484\n",
      " 758938 765224 771005 776246 781912 788419 796359 803760 809754 815009\n",
      " 820279 826359 833150 840712 847045 852032 856184 859886 863722 868291\n",
      " 873050 876942 880232 883626 886589 889309 891721 894257 897320 899938\n",
      " 901875 903619 905442 907178 908687 910544 912239 913523 914529 915279\n",
      " 915882 916301 916595 916827 917074 917302 917516 917779 918048 918384\n",
      " 918669 918926 919231 919519 919792 920013 920199 920343 920430 920512\n",
      " 920584 920654 920709 920762 920802 920837 920864 920892 920914 920934\n",
      " 920949 920962 920978 920995 921012 921024 921040 921058 921070 921089\n",
      " 921107 921126 921135 921146 921166 921185 921200 921211 921233 921250\n",
      " 921270 921284 921304 921316 921332 921346 921369 921384 921415 921435\n",
      " 921455 921472 921499 921533 921600]\n"
     ]
    }
   ],
   "source": [
    "cumulative_histogram = np.cumsum(histogram)\n",
    "\n",
    "print(\"CUMULATIVE HISTOGRAM:\\n\", cumulative_histogram)"
   ]
  },
  {
   "cell_type": "markdown",
   "metadata": {},
   "source": [
    "Fantastic, now instead of just dealing with the counts, we would like to convert those counts into something that is independent of the overall dimensions of the image. This is something like: \"a percentage\" of the total number of pixels.\n",
    "\n",
    "We call this the normalized cumulative histogram which is simply done through the division of the array above with a scalar."
   ]
  },
  {
   "cell_type": "code",
   "execution_count": 9,
   "metadata": {
    "collapsed": false
   },
   "outputs": [
    {
     "name": "stdout",
     "output_type": "stream",
     "text": [
      "NORMALIZED HISTOGRAM:\n",
      " [  2.46310764e-04   3.73263889e-04   4.79600694e-04   5.55555556e-04\n",
      "   6.26085069e-04   7.03125000e-04   7.89930556e-04   8.87586806e-04\n",
      "   1.03190104e-03   1.18815104e-03   1.35199653e-03   1.53211806e-03\n",
      "   1.76540799e-03   1.99001736e-03   2.23741319e-03   2.52170139e-03\n",
      "   2.83311632e-03   3.12174479e-03   3.44726562e-03   3.72829861e-03\n",
      "   4.04839410e-03   4.41406250e-03   4.79166667e-03   5.15082465e-03\n",
      "   5.58810764e-03   6.07096354e-03   6.68402778e-03   7.49457465e-03\n",
      "   8.70442708e-03   1.04318576e-02   1.23470052e-02   1.46560330e-02\n",
      "   1.78146701e-02   2.15842014e-02   2.61566840e-02   3.12966580e-02\n",
      "   3.66601562e-02   4.07443576e-02   4.37641059e-02   4.58192274e-02\n",
      "   4.71918403e-02   4.82964410e-02   4.92523872e-02   5.01942274e-02\n",
      "   5.10601128e-02   5.19335937e-02   5.28504774e-02   5.37662760e-02\n",
      "   5.47612847e-02   5.58485243e-02   5.70258247e-02   5.82389323e-02\n",
      "   5.95898438e-02   6.10047743e-02   6.24555122e-02   6.40028212e-02\n",
      "   6.56217448e-02   6.74565972e-02   6.98133681e-02   7.26638455e-02\n",
      "   7.60557726e-02   7.97374132e-02   8.37282986e-02   8.80414497e-02\n",
      "   9.33821615e-02   1.00338542e-01   1.09669054e-01   1.20434028e-01\n",
      "   1.30932075e-01   1.40857205e-01   1.51531033e-01   1.63377821e-01\n",
      "   1.77000868e-01   1.91935764e-01   2.06754557e-01   2.19729818e-01\n",
      "   2.30429688e-01   2.40199653e-01   2.50304905e-01   2.61434462e-01\n",
      "   2.72817925e-01   2.83521050e-01   2.93144531e-01   3.02227648e-01\n",
      "   3.10945095e-01   3.19891493e-01   3.28985460e-01   3.38157552e-01\n",
      "   3.46578776e-01   3.53924696e-01   3.60715061e-01   3.67207031e-01\n",
      "   3.73487413e-01   3.79877387e-01   3.85987413e-01   3.91667752e-01\n",
      "   3.97176649e-01   4.02389323e-01   4.07285156e-01   4.11923828e-01\n",
      "   4.16499566e-01   4.20951606e-01   4.25173611e-01   4.29259983e-01\n",
      "   4.33038194e-01   4.36602648e-01   4.40077040e-01   4.43566623e-01\n",
      "   4.46946615e-01   4.50046658e-01   4.53030599e-01   4.55784505e-01\n",
      "   4.58451606e-01   4.61178385e-01   4.64212240e-01   4.68323568e-01\n",
      "   4.73308377e-01   4.79067925e-01   4.85779080e-01   4.94365234e-01\n",
      "   5.02763672e-01   5.10930990e-01   5.19175347e-01   5.27586806e-01\n",
      "   5.36442057e-01   5.46378038e-01   5.57325304e-01   5.69341363e-01\n",
      "   5.82324219e-01   5.95671658e-01   6.08822700e-01   6.20817057e-01\n",
      "   6.32674696e-01   6.46092665e-01   6.60763889e-01   6.75577257e-01\n",
      "   6.88555773e-01   6.99715712e-01   7.09941406e-01   7.20480686e-01\n",
      "   7.31616753e-01   7.43030599e-01   7.54136285e-01   7.63934462e-01\n",
      "   7.72736545e-01   7.80965712e-01   7.89415148e-01   7.98472222e-01\n",
      "   8.06970486e-01   8.15412326e-01   8.23500434e-01   8.30321181e-01\n",
      "   8.36593967e-01   8.42280816e-01   8.48428819e-01   8.55489366e-01\n",
      "   8.64104818e-01   8.72135417e-01   8.78639323e-01   8.84341363e-01\n",
      "   8.90059679e-01   8.96656901e-01   9.04025608e-01   9.12230903e-01\n",
      "   9.19102648e-01   9.24513889e-01   9.29019097e-01   9.33036024e-01\n",
      "   9.37198351e-01   9.42156033e-01   9.47319878e-01   9.51542969e-01\n",
      "   9.55112847e-01   9.58795573e-01   9.62010634e-01   9.64962023e-01\n",
      "   9.67579210e-01   9.70330946e-01   9.73654514e-01   9.76495226e-01\n",
      "   9.78597005e-01   9.80489366e-01   9.82467448e-01   9.84351128e-01\n",
      "   9.85988498e-01   9.88003472e-01   9.89842665e-01   9.91235894e-01\n",
      "   9.92327474e-01   9.93141276e-01   9.93795573e-01   9.94250217e-01\n",
      "   9.94569227e-01   9.94820964e-01   9.95088976e-01   9.95336372e-01\n",
      "   9.95568576e-01   9.95853950e-01   9.96145833e-01   9.96510417e-01\n",
      "   9.96819661e-01   9.97098524e-01   9.97429470e-01   9.97741970e-01\n",
      "   9.98038194e-01   9.98277995e-01   9.98479818e-01   9.98636068e-01\n",
      "   9.98730469e-01   9.98819444e-01   9.98897569e-01   9.98973524e-01\n",
      "   9.99033203e-01   9.99090712e-01   9.99134115e-01   9.99172092e-01\n",
      "   9.99201389e-01   9.99231771e-01   9.99255642e-01   9.99277344e-01\n",
      "   9.99293620e-01   9.99307726e-01   9.99325087e-01   9.99343533e-01\n",
      "   9.99361979e-01   9.99375000e-01   9.99392361e-01   9.99411892e-01\n",
      "   9.99424913e-01   9.99445530e-01   9.99465061e-01   9.99485677e-01\n",
      "   9.99495443e-01   9.99507378e-01   9.99529080e-01   9.99549696e-01\n",
      "   9.99565972e-01   9.99577908e-01   9.99601780e-01   9.99620226e-01\n",
      "   9.99641927e-01   9.99657118e-01   9.99678819e-01   9.99691840e-01\n",
      "   9.99709201e-01   9.99724392e-01   9.99749349e-01   9.99765625e-01\n",
      "   9.99799262e-01   9.99820964e-01   9.99842665e-01   9.99861111e-01\n",
      "   9.99890408e-01   9.99927300e-01   1.00000000e+00]\n"
     ]
    }
   ],
   "source": [
    "normalized_histogram = cumulative_histogram / img_gray.size\n",
    "\n",
    "print(\"NORMALIZED HISTOGRAM:\\n\", normalized_histogram)"
   ]
  },
  {
   "cell_type": "markdown",
   "metadata": {},
   "source": [
    "So now let's say that we want to discard the 'dark_thresh' darkest pixels in the image, and the 'light_thresh' lightest pixels in the image, where both of the thresholds are expressed as fractions from 0.0 to 1.0. Or better, let's expose or highlight the pixels that are in between! In this case, we are going to call them 'lower_thresh' and 'upper_thresh', respectively.\n",
    "\n",
    "Note 'upper_threshold' is equal to \"1.0 - light_thresh\" just to give you an idea of what it means.\n",
    "\n",
    "So how we do this, we use the boundaries above to get a Boolean selection vector using numpy as follows:\n"
   ]
  },
  {
   "cell_type": "code",
   "execution_count": 10,
   "metadata": {
    "collapsed": false
   },
   "outputs": [
    {
     "name": "stdout",
     "output_type": "stream",
     "text": [
      "SELECTION VECTOR FOR GRAY VALUES IN RANGE:\n",
      " [False False False False False False False False False False False False\n",
      " False False False False False False False False False False False False\n",
      " False False False False False False False False False False False False\n",
      " False False False False False False False False False False False False\n",
      " False False False False False False False False False False False False\n",
      " False False False False False False False False False False False False\n",
      " False False  True  True  True  True  True  True  True  True  True  True\n",
      "  True  True  True  True  True  True  True  True  True  True  True  True\n",
      "  True  True  True  True  True  True  True  True  True  True  True  True\n",
      "  True  True  True  True  True  True  True  True  True  True  True  True\n",
      "  True  True  True  True  True  True  True  True  True  True  True  True\n",
      "  True  True  True  True  True  True  True  True  True  True  True  True\n",
      "  True  True  True  True False False False False False False False False\n",
      " False False False False False False False False False False False False\n",
      " False False False False False False False False False False False False\n",
      " False False False False False False False False False False False False\n",
      " False False False False False False False False False False False False\n",
      " False False False False False False False False False False False False\n",
      " False False False False False False False False False False False False\n",
      " False False False False False False False False False False False False\n",
      " False False False False False False False False False False False False\n",
      " False False False]\n"
     ]
    }
   ],
   "source": [
    "lower_thresh = 0.2\n",
    "upper_thresh = 0.8\n",
    "\n",
    "selection_vector = (normalized_histogram >= lower_thresh) & (normalized_histogram <= upper_thresh)\n",
    "\n",
    "print(\"SELECTION VECTOR FOR GRAY VALUES IN RANGE:\\n\", selection_vector)"
   ]
  },
  {
   "cell_type": "markdown",
   "metadata": {},
   "source": [
    "How to convert that to the actual gray values within range? I am glad you asked!"
   ]
  },
  {
   "cell_type": "code",
   "execution_count": 11,
   "metadata": {
    "collapsed": false
   },
   "outputs": [
    {
     "name": "stdout",
     "output_type": "stream",
     "text": [
      "GRAY VALUES MEETING PERCENTAGE CRITERIA:\n",
      " [ 74  75  76  77  78  79  80  81  82  83  84  85  86  87  88  89  90  91\n",
      "  92  93  94  95  96  97  98  99 100 101 102 103 104 105 106 107 108 109\n",
      " 110 111 112 113 114 115 116 117 118 119 120 121 122 123 124 125 126 127\n",
      " 128 129 130 131 132 133 134 135 136 137 138 139 140 141 142 143 144 145\n",
      " 146 147]\n"
     ]
    }
   ],
   "source": [
    "gray_values = np.arange(0, 255)[selection_vector]\n",
    "\n",
    "print(\"GRAY VALUES MEETING PERCENTAGE CRITERIA:\\n\", gray_values)"
   ]
  },
  {
   "cell_type": "markdown",
   "metadata": {},
   "source": [
    "As you can see, these are continuous values and can easily be mirrored to a lower and an upper comparison boundary."
   ]
  },
  {
   "cell_type": "code",
   "execution_count": 13,
   "metadata": {
    "collapsed": false
   },
   "outputs": [
    {
     "name": "stdout",
     "output_type": "stream",
     "text": [
      "ACTUAL GRAY BOUNDARIES:\n",
      " 74 147\n"
     ]
    }
   ],
   "source": [
    "lthresh = np.min(gray_values)\n",
    "uthresh = np.max(gray_values)\n",
    "\n",
    "print(\"ACTUAL GRAY BOUNDARIES:\\n\", lthresh, uthresh)"
   ]
  },
  {
   "cell_type": "markdown",
   "metadata": {},
   "source": [
    "# One Liner"
   ]
  },
  {
   "cell_type": "markdown",
   "metadata": {},
   "source": [
    "Here you can find a more re-usable implementation:"
   ]
  },
  {
   "cell_type": "code",
   "execution_count": 21,
   "metadata": {
    "collapsed": false
   },
   "outputs": [
    {
     "name": "stdout",
     "output_type": "stream",
     "text": [
      "ACTUAL GRAY BOUNDARIES (FUNCTION):\n",
      " (74, 147)\n"
     ]
    }
   ],
   "source": [
    "def percentages_to_thresholds(img_gray, lower_percentage, upper_percentage):\n",
    "    norm_hist = (np.cumsum(np.histogram(img_gray, 255, (0.0, 255.0))[0]) / img_gray.size).astype(np.float32)\n",
    "    values = np.arange(0, 255)[((norm_hist >= lower_percentage) & (norm_hist <= upper_percentage))]\n",
    "    \n",
    "    return np.min(values), np.max(values)\n",
    "\n",
    "print(\"ACTUAL GRAY BOUNDARIES (FUNCTION):\\n\", percentages_to_thresholds(img_gray, 0.2, 0.8))"
   ]
  },
  {
   "cell_type": "code",
   "execution_count": null,
   "metadata": {
    "collapsed": true
   },
   "outputs": [],
   "source": []
  }
 ],
 "metadata": {
  "kernelspec": {
   "display_name": "Python 3",
   "language": "python",
   "name": "python3"
  },
  "language_info": {
   "codemirror_mode": {
    "name": "ipython",
    "version": 3
   },
   "file_extension": ".py",
   "mimetype": "text/x-python",
   "name": "python",
   "nbconvert_exporter": "python",
   "pygments_lexer": "ipython3",
   "version": "3.5.2"
  }
 },
 "nbformat": 4,
 "nbformat_minor": 2
}
