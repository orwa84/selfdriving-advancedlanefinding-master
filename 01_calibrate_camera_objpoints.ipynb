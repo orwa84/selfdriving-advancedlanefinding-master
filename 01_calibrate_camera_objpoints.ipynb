{
 "cells": [
  {
   "cell_type": "markdown",
   "metadata": {},
   "source": [
    "# Recipe for generating (x, y, z) pairs from (count_x, count_y) of chessboard corners"
   ]
  },
  {
   "cell_type": "markdown",
   "metadata": {},
   "source": [
    "In this notebook I show how I reached at a recipe to generate something like {(0, 0, 0), (0, 1, 0), (1, 0, 0), (1, 1, 0)} from a chessboard count tuple such as (2, 2) which means: 2 (inner) corners along the x axis, and 2 (inner) corners along the y axis."
   ]
  },
  {
   "cell_type": "code",
   "execution_count": 6,
   "metadata": {
    "collapsed": false
   },
   "outputs": [
    {
     "name": "stdout",
     "output_type": "stream",
     "text": [
      "count of (inner) chessboard corners along the 'x' axis:  6\n",
      "count of (inner) chessboard corners along the 'y' axis:  4\n",
      "\n",
      "'x' part of coordinates:\n",
      " [[0 1 2 3 4 5]\n",
      " [0 1 2 3 4 5]\n",
      " [0 1 2 3 4 5]\n",
      " [0 1 2 3 4 5]]\n",
      "\n",
      "'y' part of coordinates:\n",
      " [[0 0 0 0 0 0]\n",
      " [1 1 1 1 1 1]\n",
      " [2 2 2 2 2 2]\n",
      " [3 3 3 3 3 3]]\n"
     ]
    }
   ],
   "source": [
    "import numpy as np\n",
    "\n",
    "corners_size = (6, 4)\n",
    "\n",
    "print(\"count of (inner) chessboard corners along the 'x' axis: \", corners_size[0])\n",
    "print(\"count of (inner) chessboard corners along the 'y' axis: \", corners_size[1])\n",
    "\n",
    "y_part_of_coordinate, x_part_of_coordinate = \\\n",
    "   np.mgrid[:corners_size[1], :corners_size[0]] \n",
    "\n",
    "print(\"\\n'x' part of coordinates:\\n\", x_part_of_coordinate)\n",
    "print(\"\\n'y' part of coordinates:\\n\", y_part_of_coordinate)"
   ]
  },
  {
   "cell_type": "markdown",
   "metadata": {},
   "source": [
    "Now that we have the x part and the y parts separately, we need the z part in a similar fashion which is nothing but a zero matrix of the shame shape as both the x/y matrices. This can be done two ways, either using the nd.zeros following a shape of corners_size[::-1] or using nd.zeros_like. I choose the first approach:"
   ]
  },
  {
   "cell_type": "code",
   "execution_count": 7,
   "metadata": {
    "collapsed": false
   },
   "outputs": [
    {
     "name": "stdout",
     "output_type": "stream",
     "text": [
      "\n",
      "'z' part of coordinates:\n",
      " [[ 0.  0.  0.  0.  0.  0.]\n",
      " [ 0.  0.  0.  0.  0.  0.]\n",
      " [ 0.  0.  0.  0.  0.  0.]\n",
      " [ 0.  0.  0.  0.  0.  0.]]\n"
     ]
    }
   ],
   "source": [
    "z_part_of_coordinate = np.zeros(corners_size[::-1])\n",
    "\n",
    "print(\"\\n'z' part of coordinates:\\n\", z_part_of_coordinate)"
   ]
  },
  {
   "cell_type": "markdown",
   "metadata": {},
   "source": [
    "---------------------------------------\n",
    "Now we combine all the dimensions into one array:"
   ]
  },
  {
   "cell_type": "markdown",
   "metadata": {},
   "source": [
    "xyz_coordinates_separately = np.array([x_part_of_coordinate, y_part_of_coordinate, z_part_of_coordinate])\n",
    "\n",
    "print('x/y/z coordinates each on its own in a 2-dimensional array, within one list:\\n', xyz_coordinates_separately)"
   ]
  },
  {
   "cell_type": "markdown",
   "metadata": {},
   "source": [
    "At level 0, there are 3, 2-dimensional arrays that can be seen at this point, each carrying floating-point numbers which represent the x, the y, and the z coordinates.\n",
    "\n",
    "In order to transform that into coordinate pairs we use the np.dstack function:"
   ]
  },
  {
   "cell_type": "code",
   "execution_count": 10,
   "metadata": {
    "collapsed": false
   },
   "outputs": [
    {
     "name": "stdout",
     "output_type": "stream",
     "text": [
      "x/y/z pairs using \"np.dstack\":\n",
      " [[[ 0.  0.  0.]\n",
      "  [ 1.  0.  0.]\n",
      "  [ 2.  0.  0.]\n",
      "  [ 3.  0.  0.]\n",
      "  [ 4.  0.  0.]\n",
      "  [ 5.  0.  0.]]\n",
      "\n",
      " [[ 0.  1.  0.]\n",
      "  [ 1.  1.  0.]\n",
      "  [ 2.  1.  0.]\n",
      "  [ 3.  1.  0.]\n",
      "  [ 4.  1.  0.]\n",
      "  [ 5.  1.  0.]]\n",
      "\n",
      " [[ 0.  2.  0.]\n",
      "  [ 1.  2.  0.]\n",
      "  [ 2.  2.  0.]\n",
      "  [ 3.  2.  0.]\n",
      "  [ 4.  2.  0.]\n",
      "  [ 5.  2.  0.]]\n",
      "\n",
      " [[ 0.  3.  0.]\n",
      "  [ 1.  3.  0.]\n",
      "  [ 2.  3.  0.]\n",
      "  [ 3.  3.  0.]\n",
      "  [ 4.  3.  0.]\n",
      "  [ 5.  3.  0.]]]\n"
     ]
    }
   ],
   "source": [
    "xyz_pairs = np.dstack(xyz_coordinates_separately)\n",
    "\n",
    "print('x/y/z pairs using \"np.dstack\":\\n', xyz_pairs)"
   ]
  },
  {
   "cell_type": "markdown",
   "metadata": {},
   "source": [
    "We're almost there. All that is left to do is to remove the artifical boundaries or to flatten the array into a a list of ternary tuples. This is easily achieved using \"np.reshape\" while leaving the unknown or the automatic dimension as \"-1\":"
   ]
  },
  {
   "cell_type": "code",
   "execution_count": 12,
   "metadata": {
    "collapsed": false
   },
   "outputs": [
    {
     "name": "stdout",
     "output_type": "stream",
     "text": [
      "objpoints ready to be passed to OpenCV calibrateCamera:\n",
      " [[ 0.  0.  0.]\n",
      " [ 1.  0.  0.]\n",
      " [ 2.  0.  0.]\n",
      " [ 3.  0.  0.]\n",
      " [ 4.  0.  0.]\n",
      " [ 5.  0.  0.]\n",
      " [ 0.  1.  0.]\n",
      " [ 1.  1.  0.]\n",
      " [ 2.  1.  0.]\n",
      " [ 3.  1.  0.]\n",
      " [ 4.  1.  0.]\n",
      " [ 5.  1.  0.]\n",
      " [ 0.  2.  0.]\n",
      " [ 1.  2.  0.]\n",
      " [ 2.  2.  0.]\n",
      " [ 3.  2.  0.]\n",
      " [ 4.  2.  0.]\n",
      " [ 5.  2.  0.]\n",
      " [ 0.  3.  0.]\n",
      " [ 1.  3.  0.]\n",
      " [ 2.  3.  0.]\n",
      " [ 3.  3.  0.]\n",
      " [ 4.  3.  0.]\n",
      " [ 5.  3.  0.]]\n"
     ]
    }
   ],
   "source": [
    "objpoints = xyz_pairs.reshape((-1,3))\n",
    "\n",
    "print('objpoints ready to be passed to OpenCV calibrateCamera:\\n', objpoints)"
   ]
  },
  {
   "cell_type": "markdown",
   "metadata": {},
   "source": [
    "## One line of code\n",
    "\n",
    "It is possible to arrive at the same result above using a single line of code, which is how this recipe is used in my code."
   ]
  },
  {
   "cell_type": "code",
   "execution_count": 18,
   "metadata": {
    "collapsed": false
   },
   "outputs": [
    {
     "name": "stdout",
     "output_type": "stream",
     "text": [
      "objpoints, just as before:\n",
      " [[ 0.  0.  0.]\n",
      " [ 1.  0.  0.]\n",
      " [ 2.  0.  0.]\n",
      " [ 3.  0.  0.]\n",
      " [ 4.  0.  0.]\n",
      " [ 5.  0.  0.]\n",
      " [ 0.  1.  0.]\n",
      " [ 1.  1.  0.]\n",
      " [ 2.  1.  0.]\n",
      " [ 3.  1.  0.]\n",
      " [ 4.  1.  0.]\n",
      " [ 5.  1.  0.]\n",
      " [ 0.  2.  0.]\n",
      " [ 1.  2.  0.]\n",
      " [ 2.  2.  0.]\n",
      " [ 3.  2.  0.]\n",
      " [ 4.  2.  0.]\n",
      " [ 5.  2.  0.]\n",
      " [ 0.  3.  0.]\n",
      " [ 1.  3.  0.]\n",
      " [ 2.  3.  0.]\n",
      " [ 3.  3.  0.]\n",
      " [ 4.  3.  0.]\n",
      " [ 5.  3.  0.]]\n"
     ]
    }
   ],
   "source": [
    "objpoints_direct = \\\n",
    "    np.dstack(np.concatenate(( \\\n",
    "        np.mgrid[:corners_size[1],:corners_size[0]][::-1], \\\n",
    "        [np.zeros(corners_size[::-1])] \\\n",
    "    ))).reshape((-1,3))\n",
    "    \n",
    "print('objpoints, just as before:\\n', objpoints_direct)"
   ]
  },
  {
   "cell_type": "code",
   "execution_count": null,
   "metadata": {
    "collapsed": true
   },
   "outputs": [],
   "source": []
  }
 ],
 "metadata": {
  "kernelspec": {
   "display_name": "Python 3",
   "language": "python",
   "name": "python3"
  },
  "language_info": {
   "codemirror_mode": {
    "name": "ipython",
    "version": 3
   },
   "file_extension": ".py",
   "mimetype": "text/x-python",
   "name": "python",
   "nbconvert_exporter": "python",
   "pygments_lexer": "ipython3",
   "version": "3.5.2"
  }
 },
 "nbformat": 4,
 "nbformat_minor": 2
}
